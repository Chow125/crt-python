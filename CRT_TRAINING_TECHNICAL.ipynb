{
  "nbformat": 4,
  "nbformat_minor": 0,
  "metadata": {
    "colab": {
      "provenance": [],
      "authorship_tag": "ABX9TyOpfrF6l9mUMa7OmCQ3Zodg",
      "include_colab_link": true
    },
    "kernelspec": {
      "name": "python3",
      "display_name": "Python 3"
    },
    "language_info": {
      "name": "python"
    }
  },
  "cells": [
    {
      "cell_type": "markdown",
      "metadata": {
        "id": "view-in-github",
        "colab_type": "text"
      },
      "source": [
        "<a href=\"https://colab.research.google.com/github/Chow125/crt-python/blob/main/CRT_TRAINING_TECHNICAL.ipynb\" target=\"_parent\"><img src=\"https://colab.research.google.com/assets/colab-badge.svg\" alt=\"Open In Colab\"/></a>"
      ]
    },
    {
      "cell_type": "markdown",
      "source": [
        " universal language syntax"
      ],
      "metadata": {
        "id": "Y1KynsgzKONf"
      }
    },
    {
      "cell_type": "markdown",
      "source": [
        "****UNIVERSAL LANGUAGE SYNTAX  \n",
        "for (initialisation;condition;step){\n",
        "  block of statements\n",
        "}\n",
        "\n",
        "\n",
        "***PYTHON LANGUAGE SYNTAX\n",
        "for i in range(start,end,step);\n",
        "block of statements"
      ],
      "metadata": {
        "id": "5_5TPBhTKTlJ"
      }
    },
    {
      "cell_type": "code",
      "source": [
        "# UNIVERSAL LANGUAGE SYNTAX  FOR LOOP\n",
        "\n",
        "for (initialisation;condition;step){\n",
        "  block of statements\n",
        "}\n",
        "\n",
        "\n",
        "# PYTHON LANGUAGE SYNTAX\n",
        "\n",
        "for i in range(start,end,step);\n",
        "block of statements"
      ],
      "metadata": {
        "id": "YI4cuIL_LXZx"
      },
      "execution_count": null,
      "outputs": []
    },
    {
      "cell_type": "code",
      "source": [
        "# UNIVERSAL SYNTAX  FOR  WHILE LOOP\n",
        "initialisation\n",
        "\n",
        "while condition:\n",
        "  block of statements\n",
        "  step\n",
        "\n",
        "i = 3\n",
        "while i<15 :\n",
        "  print(i)\n",
        "  i+=1"
      ],
      "metadata": {
        "id": "QR01JKzeZyyn"
      },
      "execution_count": null,
      "outputs": []
    },
    {
      "cell_type": "code",
      "source": [
        "# running  of  python  in  vs  code\n",
        " python filename.py\n",
        "# for example\n",
        " python app.py"
      ],
      "metadata": {
        "id": "vG3b0ix_MeK6"
      },
      "execution_count": null,
      "outputs": []
    },
    {
      "cell_type": "code",
      "source": [
        "#taking an input\n",
        "variable = input()"
      ],
      "metadata": {
        "id": "R4bP2No_NPIT"
      },
      "execution_count": null,
      "outputs": []
    },
    {
      "cell_type": "code",
      "source": [
        "#taking  an  output\n",
        "print(function)"
      ],
      "metadata": {
        "id": "rYe3qK_qNeI9"
      },
      "execution_count": null,
      "outputs": []
    },
    {
      "cell_type": "code",
      "source": [
        "# EXAMPLE  FOR TAKING AN INPUT AND  OUTPUT\n",
        "a = input()\n",
        "print(a)"
      ],
      "metadata": {
        "id": "u_aTSQoYNqUW"
      },
      "execution_count": null,
      "outputs": []
    },
    {
      "cell_type": "code",
      "source": [
        "# VARIABLES ARE THE  CONTAINER  TO STORE  THE  DATA TO USE  FOR  THE FURTHER  STATEMENTS\n",
        "#FOR  EXAMPLE\n",
        "LP1 = 500000\n",
        "LP2 = 1000000\n",
        "SUM =LP1+LP2\n",
        "print(SUM)"
      ],
      "metadata": {
        "colab": {
          "base_uri": "https://localhost:8080/"
        },
        "id": "4zR7XX0IPNXd",
        "outputId": "48357511-a733-4e14-9637-2fdee94bd6bf"
      },
      "execution_count": null,
      "outputs": [
        {
          "output_type": "stream",
          "name": "stdout",
          "text": [
            "1500000\n"
          ]
        }
      ]
    },
    {
      "cell_type": "code",
      "source": [
        "\n",
        "# MAIN DATA TYPES USED IN PYTHON\n",
        " Int\n",
        " String\n",
        " Float\n",
        " BOOLEAN"
      ],
      "metadata": {
        "id": "VwoQCa7qPNaA"
      },
      "execution_count": null,
      "outputs": []
    },
    {
      "cell_type": "code",
      "source": [
        "# IF ELSE SYNTAX\n",
        "if condtion:\n",
        "  block of  statements\n",
        "else:\n",
        "  block of statements\n",
        "\n",
        "# for example\n",
        "age = int(input())\n",
        "if age>=18:\n",
        "  print(\"eligible for voting\")\n",
        "else:\n",
        "  print(\"not eligible for voting\")"
      ],
      "metadata": {
        "colab": {
          "base_uri": "https://localhost:8080/"
        },
        "id": "B2SEuj7CPNcj",
        "outputId": "0007577d-c9f9-4584-c9a2-b4719cfcbd33"
      },
      "execution_count": null,
      "outputs": [
        {
          "output_type": "stream",
          "name": "stdout",
          "text": [
            "99\n",
            "eligible for voting\n"
          ]
        }
      ]
    },
    {
      "cell_type": "code",
      "source": [
        "# TYPES OF CONDITIONAL STATEMENTS\n",
        " 1 if Condition (This executes a block of code only if the condition is True)\n",
        " 2 if else condition (This provides two paths — one when the condition is True, and one when it's False)\n",
        " 3 nested if condition(if elif else ) (This is used when you have multiple conditions to check in sequence)\n",
        "\n",
        "\n",
        "\n"
      ],
      "metadata": {
        "id": "fpAGx9s-PNfG"
      },
      "execution_count": null,
      "outputs": []
    },
    {
      "cell_type": "code",
      "source": [
        "# REVERSED  CODE\n",
        "# ITERATION - 1\n",
        "num = int(input())\n",
        "sam = 0\n",
        "while(num>0):\n",
        "  samba = num%10\n",
        "  sam = (sam*10)+samba\n",
        "  num = num//10\n",
        "print(sam)\n",
        "\n"
      ],
      "metadata": {
        "id": "7EtDWI8aPNjw"
      },
      "execution_count": null,
      "outputs": []
    },
    {
      "cell_type": "code",
      "source": [
        "# REVERSE CODE iteration -2\n",
        "i=input()\n",
        "print(i[::-1])"
      ],
      "metadata": {
        "id": "Qa5-XbYWPNl_"
      },
      "execution_count": null,
      "outputs": []
    },
    {
      "cell_type": "code",
      "source": [
        "# PALINDROME CODE\n",
        "num = int(input(\"Enter a number: \"))\n",
        "original = num  # store the original number\n",
        "sam = 0\n",
        "\n",
        "while num > 0:\n",
        "    samba = num % 10\n",
        "    sam = (sam * 10) + samba\n",
        "    num = num // 10\n",
        "\n",
        "print(\"Reversed number:\", sam)\n",
        "\n",
        "if original == sam:\n",
        "    print(\"It's a palindrome number.\")\n",
        "else:\n",
        "    print(\"It's not a palindrome number.\")\n"
      ],
      "metadata": {
        "colab": {
          "base_uri": "https://localhost:8080/"
        },
        "id": "QKVL-VKOPNpZ",
        "outputId": "c2cc9b26-bf07-4e5f-9319-23d1203f6887"
      },
      "execution_count": null,
      "outputs": [
        {
          "output_type": "stream",
          "name": "stdout",
          "text": [
            "Enter a number: 5412896\n",
            "Reversed number: 6982145\n",
            "It's not a palindrome number.\n"
          ]
        }
      ]
    },
    {
      "cell_type": "code",
      "source": [],
      "metadata": {
        "id": "o3Q8M6bdNqvZ"
      },
      "execution_count": null,
      "outputs": []
    },
    {
      "cell_type": "code",
      "source": [],
      "metadata": {
        "id": "e3J_B1b2Nqxy"
      },
      "execution_count": null,
      "outputs": []
    },
    {
      "cell_type": "code",
      "source": [],
      "metadata": {
        "id": "BdK8BgeuNq0b"
      },
      "execution_count": null,
      "outputs": []
    },
    {
      "cell_type": "code",
      "source": [],
      "metadata": {
        "id": "68g-1oWRNq23"
      },
      "execution_count": null,
      "outputs": []
    },
    {
      "cell_type": "code",
      "source": [],
      "metadata": {
        "id": "fWnKC1v8Nq5d"
      },
      "execution_count": null,
      "outputs": []
    },
    {
      "cell_type": "code",
      "source": [],
      "metadata": {
        "id": "T_cHZbcJNq7q"
      },
      "execution_count": null,
      "outputs": []
    },
    {
      "cell_type": "code",
      "source": [],
      "metadata": {
        "id": "eGd1NzvDNq-S"
      },
      "execution_count": null,
      "outputs": []
    },
    {
      "cell_type": "code",
      "source": [],
      "metadata": {
        "id": "yN5zjb--NrA0"
      },
      "execution_count": null,
      "outputs": []
    },
    {
      "cell_type": "code",
      "source": [],
      "metadata": {
        "id": "MWKpWUaVNrDZ"
      },
      "execution_count": null,
      "outputs": []
    },
    {
      "cell_type": "code",
      "source": [],
      "metadata": {
        "id": "cQl1l1V0NrFZ"
      },
      "execution_count": null,
      "outputs": []
    },
    {
      "cell_type": "code",
      "source": [],
      "metadata": {
        "id": "kjPSwdiPNrI3"
      },
      "execution_count": null,
      "outputs": []
    }
  ]
}